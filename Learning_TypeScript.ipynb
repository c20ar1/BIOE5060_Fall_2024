{
  "nbformat": 4,
  "nbformat_minor": 0,
  "metadata": {
    "colab": {
      "provenance": [],
      "toc_visible": true,
      "authorship_tag": "ABX9TyMFQX1pvkB765YE0OXQ/Nm8",
      "include_colab_link": true
    },
    "kernelspec": {
      "name": "python3",
      "display_name": "Python 3"
    },
    "language_info": {
      "name": "python"
    }
  },
  "cells": [
    {
      "cell_type": "markdown",
      "metadata": {
        "id": "view-in-github",
        "colab_type": "text"
      },
      "source": [
        "<a href=\"https://colab.research.google.com/github/c20ar1/BIOE5060_Fall_2024/blob/main/Learning_TypeScript.ipynb\" target=\"_parent\"><img src=\"https://colab.research.google.com/assets/colab-badge.svg\" alt=\"Open In Colab\"/></a>"
      ]
    },
    {
      "cell_type": "markdown",
      "source": [
        "# BIOE 5060 Essential Computing Tools for Bioengineers - Final Project\n",
        "# Introduction to Typescript! 🙂 By Amelia Ruth"
      ],
      "metadata": {
        "id": "Da4auu0SyMkv"
      }
    },
    {
      "cell_type": "markdown",
      "source": [
        "## Step 0 - Setup the notebook environment"
      ],
      "metadata": {
        "id": "y5pLIg7XzPf2"
      }
    },
    {
      "cell_type": "code",
      "source": [
        "%%bash\n",
        "apt-get remove -y nodejs npm\n",
        "apt-get install -y curl # Install curl\n",
        "curl -fsSL https://deb.nodesource.com/setup_16.x | bash - # Add NodeSource repository\n",
        "apt-get install -y nodejs # Install Node.js and npm\n",
        "npm install -g typescript # Install TypeScript\n",
        "npm install -g ts-node # Install ts-node for running TypeScript\n",
        "node --version\n",
        "npm --version\n",
        "tsc --version"
      ],
      "metadata": {
        "colab": {
          "base_uri": "https://localhost:8080/"
        },
        "collapsed": true,
        "id": "ZjgHCQVQ0Ae5",
        "outputId": "886827f9-907f-4cb8-8e8c-f31591ee541e"
      },
      "execution_count": null,
      "outputs": [
        {
          "output_type": "stream",
          "name": "stdout",
          "text": [
            "Reading package lists...\n",
            "Building dependency tree...\n",
            "Reading state information...\n",
            "Package 'npm' is not installed, so not removed\n",
            "The following packages will be REMOVED:\n",
            "  nodejs\n",
            "0 upgraded, 0 newly installed, 1 to remove and 55 not upgraded.\n",
            "After this operation, 128 MB disk space will be freed.\n",
            "(Reading database ... \r(Reading database ... 5%\r(Reading database ... 10%\r(Reading database ... 15%\r(Reading database ... 20%\r(Reading database ... 25%\r(Reading database ... 30%\r(Reading database ... 35%\r(Reading database ... 40%\r(Reading database ... 45%\r(Reading database ... 50%\r(Reading database ... 55%\r(Reading database ... 60%\r(Reading database ... 65%\r(Reading database ... 70%\r(Reading database ... 75%\r(Reading database ... 80%\r(Reading database ... 85%\r(Reading database ... 90%\r(Reading database ... 95%\r(Reading database ... 100%\r(Reading database ... 126839 files and directories currently installed.)\r\n",
            "Removing nodejs (16.20.2-1nodesource1) ...\r\n",
            "dpkg: warning: while removing nodejs, directory '/usr/lib/node_modules' not empty so not removed\r\n",
            "Processing triggers for man-db (2.10.2-1) ...\r\n",
            "Reading package lists...\n",
            "Building dependency tree...\n",
            "Reading state information...\n",
            "curl is already the newest version (7.81.0-1ubuntu1.19).\n",
            "0 upgraded, 0 newly installed, 0 to remove and 55 not upgraded.\n",
            "\n",
            "================================================================================\n",
            "================================================================================\n",
            "\n",
            "                              DEPRECATION WARNING                            \n",
            "\n",
            "     Node.js 16.x is no longer actively supported!\n",
            "\n",
            "  You will not receive security or critical stability updates for this version.\n",
            "\n",
            "  You should migrate to a supported version of Node.js as soon as possible.\n",
            "  Use the installation script that corresponds to the version of Node.js you\n",
            "  wish to install. e.g.\n",
            "  \n",
            "   * https://deb.nodesource.com/setup_16.x — Node.js 16 \"Gallium\" (deprecated)\n",
            "   * https://deb.nodesource.com/setup_18.x — Node.js 18 \"Hydrogen\" (Maintenance)\n",
            "   * https://deb.nodesource.com/setup_19.x — Node.js 19 \"Nineteen\" (deprecated)\n",
            "   * https://deb.nodesource.com/setup_20.x — Node.js 20 LTS \"Iron\" (recommended)\n",
            "   * https://deb.nodesource.com/setup_21.x — Node.js 21 \"Iron\" (current)\n",
            "   \n",
            "\n",
            "\n",
            "  Please see https://github.com/nodejs/Release for details about which\n",
            "  version may be appropriate for you.\n",
            "\n",
            "  The NodeSource Node.js distributions repository contains\n",
            "  information both about supported versions of Node.js and supported Linux\n",
            "  distributions. To learn more about usage, see the repository:\n",
            "   https://github.com/nodesource/distributions\n",
            "\n",
            "================================================================================\n",
            "================================================================================\n",
            "\n",
            "Continuing in 10 seconds ...\n",
            "\n",
            "\u001b[38;5;79m2024-12-10 07:57:39 - Installing pre-requisites\u001b[0m\n",
            "Hit:1 http://archive.ubuntu.com/ubuntu jammy InRelease\n",
            "Hit:2 http://archive.ubuntu.com/ubuntu jammy-updates InRelease\n",
            "Hit:3 http://archive.ubuntu.com/ubuntu jammy-backports InRelease\n",
            "Hit:4 https://deb.nodesource.com/node_16.x nodistro InRelease\n",
            "Hit:5 https://cloud.r-project.org/bin/linux/ubuntu jammy-cran40/ InRelease\n",
            "Hit:6 https://developer.download.nvidia.com/compute/cuda/repos/ubuntu2204/x86_64  InRelease\n",
            "Hit:7 http://security.ubuntu.com/ubuntu jammy-security InRelease\n",
            "Hit:8 https://r2u.stat.illinois.edu/ubuntu jammy InRelease\n",
            "Hit:9 https://ppa.launchpadcontent.net/deadsnakes/ppa/ubuntu jammy InRelease\n",
            "Hit:10 https://ppa.launchpadcontent.net/graphics-drivers/ppa/ubuntu jammy InRelease\n",
            "Hit:11 https://ppa.launchpadcontent.net/ubuntugis/ppa/ubuntu jammy InRelease\n",
            "Reading package lists...\n",
            "Reading package lists...\n",
            "Building dependency tree...\n",
            "Reading state information...\n",
            "ca-certificates is already the newest version (20240203~22.04.1).\n",
            "curl is already the newest version (7.81.0-1ubuntu1.19).\n",
            "gnupg is already the newest version (2.2.27-3ubuntu2.1).\n",
            "apt-transport-https is already the newest version (2.4.13).\n",
            "0 upgraded, 0 newly installed, 0 to remove and 55 not upgraded.\n",
            "Hit:1 https://cloud.r-project.org/bin/linux/ubuntu jammy-cran40/ InRelease\n",
            "Hit:2 https://deb.nodesource.com/node_16.x nodistro InRelease\n",
            "Hit:3 https://developer.download.nvidia.com/compute/cuda/repos/ubuntu2204/x86_64  InRelease\n",
            "Hit:4 http://security.ubuntu.com/ubuntu jammy-security InRelease\n",
            "Hit:5 https://r2u.stat.illinois.edu/ubuntu jammy InRelease\n",
            "Hit:6 http://archive.ubuntu.com/ubuntu jammy InRelease\n",
            "Hit:7 http://archive.ubuntu.com/ubuntu jammy-updates InRelease\n",
            "Hit:8 https://ppa.launchpadcontent.net/deadsnakes/ppa/ubuntu jammy InRelease\n",
            "Hit:9 http://archive.ubuntu.com/ubuntu jammy-backports InRelease\n",
            "Hit:10 https://ppa.launchpadcontent.net/graphics-drivers/ppa/ubuntu jammy InRelease\n",
            "Hit:11 https://ppa.launchpadcontent.net/ubuntugis/ppa/ubuntu jammy InRelease\n",
            "Reading package lists...\n",
            "\u001b[1;32m2024-12-10 07:57:50 - Repository configured successfully. To install Node.js, run: apt-get install nodejs -y\u001b[0m\n",
            "Reading package lists...\n",
            "Building dependency tree...\n",
            "Reading state information...\n",
            "The following NEW packages will be installed:\n",
            "  nodejs\n",
            "0 upgraded, 1 newly installed, 0 to remove and 55 not upgraded.\n",
            "Need to get 27.5 MB of archives.\n",
            "After this operation, 128 MB of additional disk space will be used.\n",
            "Get:1 https://deb.nodesource.com/node_16.x nodistro/main amd64 nodejs amd64 16.20.2-1nodesource1 [27.5 MB]\n",
            "Fetched 27.5 MB in 1s (53.0 MB/s)\n",
            "Selecting previously unselected package nodejs.\r\n",
            "(Reading database ... \r(Reading database ... 5%\r(Reading database ... 10%\r(Reading database ... 15%\r(Reading database ... 20%\r(Reading database ... 25%\r(Reading database ... 30%\r(Reading database ... 35%\r(Reading database ... 40%\r(Reading database ... 45%\r(Reading database ... 50%\r(Reading database ... 55%\r(Reading database ... 60%\r(Reading database ... 65%\r(Reading database ... 70%\r(Reading database ... 75%\r(Reading database ... 80%\r(Reading database ... 85%\r(Reading database ... 90%\r(Reading database ... 95%\r(Reading database ... 100%\r(Reading database ... 123636 files and directories currently installed.)\r\n",
            "Preparing to unpack .../nodejs_16.20.2-1nodesource1_amd64.deb ...\r\n",
            "Unpacking nodejs (16.20.2-1nodesource1) ...\r\n",
            "Setting up nodejs (16.20.2-1nodesource1) ...\r\n",
            "Processing triggers for man-db (2.10.2-1) ...\r\n",
            "\n",
            "changed 1 package, and audited 2 packages in 999ms\n",
            "\n",
            "found 0 vulnerabilities\n",
            "\n",
            "changed 20 packages, and audited 21 packages in 1s\n",
            "\n",
            "found 0 vulnerabilities\n",
            "v16.20.2\n",
            "8.19.4\n",
            "Version 5.7.2\n"
          ]
        },
        {
          "output_type": "stream",
          "name": "stderr",
          "text": [
            "W: Skipping acquire of configured file 'main/source/Sources' as repository 'https://r2u.stat.illinois.edu/ubuntu jammy InRelease' does not seem to provide it (sources.list entry misspelt?)\n",
            "W: Skipping acquire of configured file 'main/source/Sources' as repository 'https://r2u.stat.illinois.edu/ubuntu jammy InRelease' does not seem to provide it (sources.list entry misspelt?)\n"
          ]
        }
      ]
    },
    {
      "cell_type": "markdown",
      "source": [
        "## Background\n",
        "###What is TypeScript?\n",
        " - TypeScript is an open source programming language developed by Microsoft and is a superset of JavaScript that adds static typing (where the type of a variable is explicitly declared and checked at compile time)\n",
        " - Good for catching errors during development rather than at runtime\n",
        " - Compiles down to plain JavaScript, so it's compatible with any environment that supports JavaScript\n",
        " - Great for web development\n",
        "\n",
        "### Strengths and Advantages\n",
        "- Has a static typing system that helps catch errors during development - allows developers to catch type-related errors at compile-time\n",
        "-- improves code quality and reduces runtime bugs\n",
        "- Great tooling/IDE support - IDEs and text editors provide better autocompletion, refactoring, and error detection, leading to a more efficient development experience\n",
        "- Features promote clearer, self-documenting code, making large codebases easier to manage and understand\n",
        "- TypeScript is fully compatible with JavaScript, meaning existing JavaScript code can be adopted/enhanced with TypeScript features\n",
        "- TypeScript adds the following syntax extensions to JavaScript:\n",
        "-- Type annotations and compile-time type checking\n",
        "-- Type inference\n",
        "-- Interfaces\n",
        "-- Enumerated types\n",
        "-- Generics\n",
        "-- Namespaces\n",
        "-- Tuples\n",
        "-- Explicit Resource Management\n",
        "\n",
        "### Brief History\n",
        " - TypeScript was developed by Microsoft and first released in October 2012 as an open-source language\n",
        " - Typescript 1.0 released in 2014\n",
        " - Created to address limitations of JavaScript, particularly for large-scale applications, by adding optional static typing and modern features like classes and interfaces\n",
        " - TypeScript was designed by Anders Hejlsberg, the creator of C#\n",
        "\n",
        "\n",
        "![5c2e6820-51d1-4873-8329-dbc6646cc5e4_500x624.jpg](data:image/jpeg;base64,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)"
      ],
      "metadata": {
        "id": "IrXvSY8nyo5D"
      }
    },
    {
      "cell_type": "markdown",
      "source": [
        "##Language Synopsis"
      ],
      "metadata": {
        "id": "mhst9wXk4I40"
      }
    },
    {
      "cell_type": "markdown",
      "source": [
        "### Major Variable Types\n",
        "\n",
        "| variable       | meaning |\n",
        "| -------- | ------- |\n",
        "| `number`  | Represents numeric values, including integers and floating-point numbers|\n",
        "| `string`  | Represents text values |\n",
        "| `boolean`  | Represents `true` or `false` |\n",
        "| `any`  | Allows any type of value; useful for dynamic content|\n",
        "| `unknown`  | Similar to `any`, but requires type-checking or assertion before usage |\n",
        "| `void`  |Indicates no value, typically used for functions that do not return anything (like opposite of any) |\n",
        "| `null`  | Represents an explicitly empty or non-existent value |\n",
        "| `undefined`  | Represents a variable that has been declared but not assigned a value |\n",
        "| `never`  | Represents values that never occur, such as in functions that throw errors or loop indefinitely |\n",
        "| `object`  | Represents non-primitive types like arrays, objects, and functions |\n",
        "| `array`  | Represents a collection of elements of the same type |\n",
        "| `tuple`  | Represents an array with a fixed number of elements, each with a specific type |\n",
        "| `enum`  | Represents a set of named constants, often used to group related values |\n",
        "| `symbol`  | Represents a unique, immutable value often used as object property keys |\n",
        "| `bigint`  | Represents arbitrarily large integers, introduced in newer ECMAScript versions |"
      ],
      "metadata": {
        "id": "2Xhh9hLYz4Q4"
      }
    },
    {
      "cell_type": "code",
      "source": [
        "%%writefile basic_script.ts\n",
        "\n",
        "// Basic Types\n",
        "let stringVar: string = \"Hello Amelia\";\n",
        "let numberVar: number = 50;\n",
        "let booleanVar: boolean = true;\n",
        "let undefinedVar: undefined = undefined;\n",
        "let nullVar: null = null;\n",
        "\n",
        "// Array Types\n",
        "let numberArray: number[] = [1, 2, 3];\n",
        "let stringArray: Array<string> = [\"a\", \"b\", \"c\"];\n",
        "\n",
        "// Tuple\n",
        "let tuple: [string, number] = [\"hello\", 10];\n",
        "\n",
        "// Print results\n",
        "console.log(stringVar, numberVar, booleanVar);\n",
        "console.log(numberArray, stringArray);\n"
      ],
      "metadata": {
        "colab": {
          "base_uri": "https://localhost:8080/"
        },
        "id": "aF7X1I8F3ZGK",
        "outputId": "92cdeb35-c741-453d-b8be-1978e7f4ce83"
      },
      "execution_count": null,
      "outputs": [
        {
          "output_type": "stream",
          "name": "stdout",
          "text": [
            "Overwriting basic_script.ts\n"
          ]
        }
      ]
    },
    {
      "cell_type": "code",
      "source": [
        "!tsc basic_script.ts"
      ],
      "metadata": {
        "id": "f-QYTVzNvk4o"
      },
      "execution_count": null,
      "outputs": []
    },
    {
      "cell_type": "code",
      "source": [
        "!node basic_script.js"
      ],
      "metadata": {
        "id": "uv9_o_tLvnRh",
        "colab": {
          "base_uri": "https://localhost:8080/"
        },
        "outputId": "16e1a147-116b-484e-e315-882fbafd0030"
      },
      "execution_count": null,
      "outputs": [
        {
          "output_type": "stream",
          "name": "stdout",
          "text": [
            "Hello TypeScript \u001b[33m50\u001b[39m \u001b[33mtrue\u001b[39m\n",
            "[ \u001b[33m1\u001b[39m, \u001b[33m2\u001b[39m, \u001b[33m3\u001b[39m ] [ \u001b[32m'a'\u001b[39m, \u001b[32m'b'\u001b[39m, \u001b[32m'c'\u001b[39m ]\n"
          ]
        }
      ]
    },
    {
      "cell_type": "markdown",
      "source": [
        "###Operators: math and logical\n",
        "\n",
        "Arithmetic Operators: `+`,`-`,`*`,`/`,`%`\n",
        "\n",
        "Comparison Operators: `==`, `===`, `!=`, `!==`, `>`, `<`, `>=`, `<=`\n",
        "\n",
        "Logical Operators: `&&` (and), `||` (or), `!` (not)\n",
        "\n",
        "Assignment Operators: `=`, `+=`, `-=`, `*=`, `/=`, `%=`\n",
        "\n",
        "| variable|category | meaning |\n",
        "| -------- | ------- | ------- |\n",
        "| `+` `-` `*` `/`  | Arithmetic | plus/minus/multiply/divide : arithmetic operators |\n",
        "| `%`  | Arithmetic | Performs division operation and returns the remainder |\n",
        "| `++`  | Increment | Increases a variable's value by 1 |\n",
        "| `--`  | Decrement | Decreases a variable's value by 1 |\n",
        "| `=`  | Assignment | Assigns a value to a variable |\n",
        "| `+=`  | Compound Assignment | Adds and assigns a value (x += y is equivalent to x = x + y) |\n",
        "| `-=`  | Compound Assignment | Subtracts and assigns a value |\n",
        "| `*=`  | Compound Assignment| Multiplies and assigns a value |\n",
        "| `/=`  | Compound Assignment| Divides and assigns a value |\n",
        "| `%=`  | Compound Assignment | Applies modulo and assigns a value |\n",
        "| `==`  | Comparison| Checks if values are equal (loose equality, type conversion allowed) |\n",
        "| `===`  | Comparison| Checks if values and types are equal  |\n",
        "| `!=`  | Comparison| Checks if values are not equal |\n",
        "| `!==`  | Comparison| Checks if values and types are not equal (strict inequality) |\n",
        "| `>`  | Comparison| Checks if the left value is greater than the right value |\n",
        "| `<`  | Comparison| Checks if the left value is less than the right value |\n",
        "| `>=` `<=`  | Comparison| Checks if value is greater than or equal to other right value |\n",
        "| `&&`  | Logical| Logical AND, returns true if both conditions are true |\n",
        "\n",
        "\n"
      ],
      "metadata": {
        "id": "9oUmYVU634ze"
      }
    },
    {
      "cell_type": "markdown",
      "source": [
        "### Branch\n",
        "\n",
        "`if`, `else if`, `else`: Conditional branching based on boolean expressions.\n",
        "\n",
        "`switch` : A more compact form of conditional branching for multiple possible values of an expression"
      ],
      "metadata": {
        "id": "FrU3NkiG6jgX"
      }
    },
    {
      "cell_type": "code",
      "source": [
        "##Example if/else statement\n",
        "%%writefile if_else.ts\n",
        "\n",
        "let age: number = 22\n",
        "\n",
        "if (age >= 18) {\n",
        "    console.log(\"adult\");\n",
        "} else {\n",
        "    console.log(\"minor\");\n",
        "}"
      ],
      "metadata": {
        "colab": {
          "base_uri": "https://localhost:8080/"
        },
        "id": "GKZgDhB22yL0",
        "outputId": "8b73aa77-32c6-4b35-daf7-494e449621df"
      },
      "execution_count": null,
      "outputs": [
        {
          "output_type": "stream",
          "name": "stdout",
          "text": [
            "Writing if_else.ts\n"
          ]
        }
      ]
    },
    {
      "cell_type": "code",
      "source": [
        "!tsc if_else.ts"
      ],
      "metadata": {
        "id": "ZkXsML9W26ac"
      },
      "execution_count": null,
      "outputs": []
    },
    {
      "cell_type": "code",
      "source": [
        "!node if_else.js"
      ],
      "metadata": {
        "colab": {
          "base_uri": "https://localhost:8080/"
        },
        "id": "jIKOCLw028ec",
        "outputId": "25403ead-9618-4161-b9fb-1084c8adc5bb"
      },
      "execution_count": null,
      "outputs": [
        {
          "output_type": "stream",
          "name": "stdout",
          "text": [
            "adult\n"
          ]
        }
      ]
    },
    {
      "cell_type": "code",
      "source": [
        "##Example switch statement\n",
        "%%writefile switch.ts\n",
        "\n",
        "let flavor: number = 2;\n",
        "\n",
        "switch (flavor) {\n",
        "    case 1:\n",
        "        console.log(\"vanilla\");\n",
        "        break;\n",
        "    case 2:\n",
        "        console.log(\"chocolate\");\n",
        "        break;\n",
        "    default:\n",
        "        console.log(\"other flavor\");\n",
        "}"
      ],
      "metadata": {
        "colab": {
          "base_uri": "https://localhost:8080/"
        },
        "id": "1FVmshNA360g",
        "outputId": "b12fd212-bb11-468f-b63d-aa56fb8c6dd3"
      },
      "execution_count": null,
      "outputs": [
        {
          "output_type": "stream",
          "name": "stdout",
          "text": [
            "Overwriting switch.ts\n"
          ]
        }
      ]
    },
    {
      "cell_type": "code",
      "source": [
        "!tsc switch.ts"
      ],
      "metadata": {
        "id": "VQVBTqdw4Cam"
      },
      "execution_count": null,
      "outputs": []
    },
    {
      "cell_type": "code",
      "source": [
        "!node switch.js"
      ],
      "metadata": {
        "colab": {
          "base_uri": "https://localhost:8080/"
        },
        "id": "tgmcgaFZ4EOt",
        "outputId": "55e2bfac-7472-4544-a381-b427eb8e008d"
      },
      "execution_count": null,
      "outputs": [
        {
          "output_type": "stream",
          "name": "stdout",
          "text": [
            "chocolate\n"
          ]
        }
      ]
    },
    {
      "cell_type": "markdown",
      "source": [
        "### Loop\n",
        "\n",
        "`for`: Standard loop with initialization, condition, and iteration\n",
        "\n",
        "`while`: Loop that runs as long as a condition is true\n",
        "\n",
        "`do...while`: Similar to while, but the condition is checked after first iteration\n",
        "\n",
        "`for...of`: Iterates over values in an iterable object like arrays\n",
        "\n",
        "`for...in`: Iterates over keys in an object"
      ],
      "metadata": {
        "id": "rFWhY_G06pHp"
      }
    },
    {
      "cell_type": "code",
      "source": [
        "## Example of for loop\n",
        "%%writefile forloop.ts\n",
        "\n",
        "let sum: number = 0;\n",
        "\n",
        "for (let i = 1; i <= 50; i++) {\n",
        "    if (i % 2 === 0) {\n",
        "        sum += i;\n",
        "    }\n",
        "}\n",
        "\n",
        "console.log(`sum of even numbers from 1 to 50 is: ${sum}`);"
      ],
      "metadata": {
        "id": "7h5AQ0S4mpKY"
      },
      "execution_count": null,
      "outputs": []
    },
    {
      "cell_type": "code",
      "source": [
        "!tsc forloop.ts"
      ],
      "metadata": {
        "id": "wnPR1t-4myLr"
      },
      "execution_count": null,
      "outputs": []
    },
    {
      "cell_type": "code",
      "source": [
        "!node forloop.js"
      ],
      "metadata": {
        "id": "yUkY8f69m2lO"
      },
      "execution_count": null,
      "outputs": []
    },
    {
      "cell_type": "code",
      "source": [
        "## Example of while loop\n",
        "%%writefile whileloop.ts\n",
        "\n",
        "let coop_students: number = 0;\n",
        "const coopGoal: number = 1000;\n",
        "let semester: number = 1;\n",
        "\n",
        "while (coop_students < coopGoal) {\n",
        "    console.log(`Semester ${semester}: ${coop_students} students in co-op`);\n",
        "    coop_students += 500;\n",
        "    semester++;\n",
        "}\n",
        "\n",
        "console.log(`${coop_students} students have done co-op`);"
      ],
      "metadata": {
        "id": "qtmx-9b3ncv5"
      },
      "execution_count": null,
      "outputs": []
    },
    {
      "cell_type": "code",
      "source": [
        "!tsc whileloop.ts"
      ],
      "metadata": {
        "id": "ieafSfb3oI5d"
      },
      "execution_count": null,
      "outputs": []
    },
    {
      "cell_type": "code",
      "source": [
        "!node whileloop.js"
      ],
      "metadata": {
        "id": "h2g85tyRoK-L"
      },
      "execution_count": null,
      "outputs": []
    },
    {
      "cell_type": "markdown",
      "source": [
        "## Type Aliases and Interfaces\n",
        "\n",
        "You can create custom types to represent more complex data structures!\n",
        "\n",
        "- Type Alias: Another name for any type and allows you to define a new name for a type. Can be used to represent not only primitives but also object types, union types, tuples and intersections\n",
        "-- Type aliases are declared with the `type` keyword preceding them\n",
        "\n",
        "- Interface: Similar to type aliases but are specifically designed for defining the shape of objects\n",
        "\n"
      ],
      "metadata": {
        "id": "p2TdBA33nZ6H"
      }
    },
    {
      "cell_type": "code",
      "source": [
        "## Example for type alias\n",
        "%%writefile alias.ts\n",
        "\n",
        "type Point = { x: number, y: number };\n",
        "let point: Point = { x: 10, y: 20 };"
      ],
      "metadata": {
        "id": "Y4q0LlYfoXeC"
      },
      "execution_count": null,
      "outputs": []
    },
    {
      "cell_type": "code",
      "source": [
        "## Example for interface\n",
        "%%writefile interface.ts\n",
        "\n",
        "interface student {\n",
        "    name: string;\n",
        "    age: number;\n",
        "}\n",
        "let student: student = { name: \"Amelia\", age: 22 };"
      ],
      "metadata": {
        "id": "anL6MkJloe2T"
      },
      "execution_count": null,
      "outputs": []
    },
    {
      "cell_type": "markdown",
      "source": [
        "##Functions\n",
        "\n",
        "Functions in TypeScript work similarly to functions in JavaScript but in TypeScript, the inputs and outputs are typed\n",
        "\n",
        "- Default initialized parameters\n",
        "- Rest parameters\n",
        "- Function overloading\n",
        "\n",
        "https://www.typescriptlang.org/docs/handbook/functions.html\n",
        "\n",
        "https://www.typescriptlang.org/docs/handbook/2/template-literal-types.html"
      ],
      "metadata": {
        "id": "PQNRHABc59fj"
      }
    },
    {
      "cell_type": "code",
      "source": [
        "##Example function with parameters and return\n",
        "%%writefile parameter_return.ts\n",
        "\n",
        "function add(a: number, b: number): number {\n",
        "    return a + b;\n",
        "}\n",
        "console.log(add(100, 200));"
      ],
      "metadata": {
        "colab": {
          "base_uri": "https://localhost:8080/"
        },
        "id": "UCfQ2IBl6FlS",
        "outputId": "5862c718-a47b-41af-fa6f-9460be2ca7e7"
      },
      "execution_count": null,
      "outputs": [
        {
          "output_type": "stream",
          "name": "stdout",
          "text": [
            "Writing parameter_return.ts\n"
          ]
        }
      ]
    },
    {
      "cell_type": "code",
      "source": [
        "!tsc parameter_return.ts"
      ],
      "metadata": {
        "id": "z4BUIsOa6Sdf"
      },
      "execution_count": null,
      "outputs": []
    },
    {
      "cell_type": "code",
      "source": [
        "!node parameter_return.js"
      ],
      "metadata": {
        "colab": {
          "base_uri": "https://localhost:8080/"
        },
        "id": "68zT23sr6U72",
        "outputId": "1da7e59d-37bf-47c1-ff2b-1585eef5bf5d"
      },
      "execution_count": null,
      "outputs": [
        {
          "output_type": "stream",
          "name": "stdout",
          "text": [
            "\u001b[33m300\u001b[39m\n"
          ]
        }
      ]
    },
    {
      "cell_type": "code",
      "source": [
        "#Example function\n",
        "%%writefile greeting.ts\n",
        "\n",
        "function greeting(name: string): void {\n",
        "    console.log(`Hello ${name}!`);\n",
        "}\n",
        "greeting(\"Amelia\");"
      ],
      "metadata": {
        "colab": {
          "base_uri": "https://localhost:8080/"
        },
        "id": "9cb6SgcQ6a2U",
        "outputId": "7ef4d51b-9051-4d33-e943-a612142bd750"
      },
      "execution_count": null,
      "outputs": [
        {
          "output_type": "stream",
          "name": "stdout",
          "text": [
            "Overwriting greeting.ts\n"
          ]
        }
      ]
    },
    {
      "cell_type": "code",
      "source": [
        "!tsc greeting.ts"
      ],
      "metadata": {
        "id": "xCL8TpYG6wGZ"
      },
      "execution_count": null,
      "outputs": []
    },
    {
      "cell_type": "code",
      "source": [
        "!node greeting.js"
      ],
      "metadata": {
        "colab": {
          "base_uri": "https://localhost:8080/"
        },
        "id": "sLKHjcum6xwr",
        "outputId": "c59598bc-43a4-45ff-9e3b-f4d6a7ee113f"
      },
      "execution_count": null,
      "outputs": [
        {
          "output_type": "stream",
          "name": "stdout",
          "text": [
            "Hello Amelia!\n"
          ]
        }
      ]
    },
    {
      "cell_type": "markdown",
      "source": [
        "## Read and Write Files\n",
        "\n",
        "- File operations require Node.js\n",
        "- Have Node.js and TypeScript installed\n",
        "\n",
        "Reading Files:\n",
        "- `fs.readFileSync` (sync)\n",
        "- `fs.readFile` (async)\n",
        "\n",
        "Writing Files\n",
        "- `fs.writeFileSync` (sync)\n",
        "- `fs.writeFile` (async)"
      ],
      "metadata": {
        "id": "-K7DRCRGszMk"
      }
    },
    {
      "cell_type": "markdown",
      "source": [
        "## Enums\n",
        "\n",
        "- Represents a set of named constants often used to group related values\n",
        "- Enums are one of the few features TypeScript has which is not a type-level extension of JavaScript\n",
        "- Using enums can make it easier to document intent or create a set of distinct cases"
      ],
      "metadata": {
        "id": "YeIram05pUYd"
      }
    },
    {
      "cell_type": "code",
      "source": [
        "## Enum Example - Numeric\n",
        "%%writefile enum.ts\n",
        "\n",
        "enum Direction {\n",
        "    Up, 1     // 1\n",
        "    Down,   // 2\n",
        "    Left,   // 3\n",
        "    Right   // 4\n",
        "}\n",
        "\n",
        "let move: Direction = Direction.Up;\n",
        "console.log(move);\n",
        "\n",
        "// You can also specify your own numeric values for each member of the enum.\n",
        "// Up = 10,\n",
        "// Down = 20,\n",
        "// Left = 30,\n",
        "// Right = 40"
      ],
      "metadata": {
        "id": "76isHxOQprx6"
      },
      "execution_count": null,
      "outputs": []
    },
    {
      "cell_type": "code",
      "source": [
        "!tsc enum.ts"
      ],
      "metadata": {
        "id": "_fUbxV3LrFjJ"
      },
      "execution_count": null,
      "outputs": []
    },
    {
      "cell_type": "code",
      "source": [
        "!node enum.js"
      ],
      "metadata": {
        "id": "zbQOK1KMrFQg"
      },
      "execution_count": null,
      "outputs": []
    },
    {
      "cell_type": "markdown",
      "source": [
        "You can also create string-based enums!\n",
        "\n",
        "Each member of the enum is assigned a string value instead of a numeric one\n",
        "- has to be constant-initialized with a string literal, or with another string enum member\n",
        "\n"
      ],
      "metadata": {
        "id": "ATG_UjnOqq0N"
      }
    },
    {
      "cell_type": "code",
      "source": [
        "## Enum Example - String\n",
        "%%writefile string_enum.ts\n",
        "\n",
        "enum Direction {\n",
        "    Up = \"UP\",\n",
        "    Down = \"DOWN\",\n",
        "    Left = \"LEFT\",\n",
        "    Right = \"RIGHT\"\n",
        "}\n",
        "\n",
        "let move: Direction = Direction.Up;\n",
        "console.log(move);"
      ],
      "metadata": {
        "id": "bLAS8762q8f-"
      },
      "execution_count": null,
      "outputs": []
    },
    {
      "cell_type": "code",
      "source": [
        "!tsc string_enum.ts"
      ],
      "metadata": {
        "id": "0SAYR15DrLmC"
      },
      "execution_count": null,
      "outputs": []
    },
    {
      "cell_type": "code",
      "source": [
        "!node string_enum.js"
      ],
      "metadata": {
        "id": "ifX976-CrLGu"
      },
      "execution_count": null,
      "outputs": []
    },
    {
      "cell_type": "markdown",
      "source": [
        "##Advanced Feature - Generic Types\n",
        "\n",
        "Generics let you write flexible and reusable code that works with different data types while still enforcing type safety.\n",
        "\n",
        "They use placeholders to represent types, ensuring code is versatile and error-free.\n",
        "- Generics are denoted using angle brackets (`<T>`) where T is a commonly used placeholder for a generic type.\n",
        "\n",
        "Perfect for avoiding duplication and making your code scalable and easy to maintain.\n",
        "\n",
        "https://www.typescriptlang.org/docs/handbook/2/generics.html\n",
        "\n",
        "\n"
      ],
      "metadata": {
        "id": "J5Dr1K4OaVUY"
      }
    },
    {
      "cell_type": "code",
      "source": [
        "#Example 1\n",
        "%%writefile generic.ts\n",
        "\n",
        "function identity<T>(value: T): T {\n",
        "    return value;\n",
        "}\n",
        "\n",
        "const num = identity<number>(42); // explicitly specifying type\n",
        "const str = identity(\"Hello\"); // type inferred as string"
      ],
      "metadata": {
        "id": "dJpIkwWJfDLz"
      },
      "execution_count": null,
      "outputs": []
    },
    {
      "cell_type": "code",
      "source": [
        "!tsc generic.ts"
      ],
      "metadata": {
        "id": "8XY_txlplsVb"
      },
      "execution_count": null,
      "outputs": []
    },
    {
      "cell_type": "code",
      "source": [
        "!node generic.js"
      ],
      "metadata": {
        "id": "mQj1J5EPlv66"
      },
      "execution_count": null,
      "outputs": []
    },
    {
      "cell_type": "markdown",
      "source": [
        "`<T>` is a placeholder for a type that will be specified when the function is called.\n",
        "\n",
        "It allows the identity function to accept any type (number, string, etc) without being tied to one.\n",
        "\n",
        "The function takes one argument, value, of type T.\n",
        "\n",
        "It returns a value of the same type T\n",
        "\n",
        "`<number>` explicitly tells the function that T should be number.\n",
        "\n",
        "This ensures value must be a number, and the function will return a number\n",
        "\n",
        "`const str` --> no type is explicitly provided.\n",
        "\n",
        "TypeScript infers T as string from the argument \"Hello\", so the function treats value as a string."
      ],
      "metadata": {
        "id": "brZwV11Qi-PD"
      }
    },
    {
      "cell_type": "code",
      "source": [
        "#Example 2\n",
        "%%writefile generic2.ts\n",
        "\n",
        "class Queue<T> { //<T> is a placeholder for the type of items in the queue\n",
        "    private items: T[] = []; // array holds elements of type T\n",
        "\n",
        "    enqueue(item: T): void { // adds an item of type T to the end of the queue.\n",
        "        this.items.push(item);\n",
        "    }\n",
        "\n",
        "    dequeue(): T | undefined { // removes and returns item at the front of the queue. If queue is empty, it returns undefined\n",
        "        return this.items.shift();\n",
        "    }\n",
        "\n",
        "    peek(): T | undefined { // returns item at the front of the queue without removing it. Returns undefined if queue is empty\n",
        "        return this.items[0];\n",
        "    }\n",
        "}\n",
        "\n",
        "const stringQueue = new Queue<string>(); // <string> specifies that this queue will hold string values\n",
        "stringQueue.enqueue(\"First\");\n",
        "stringQueue.enqueue(\"Second\");\n",
        "console.log(stringQueue.peek());\n",
        "\n",
        "const numberQueue = new Queue<number>(); // <number> specifies that this queue will handle number values\n",
        "numberQueue.enqueue(10);\n",
        "numberQueue.enqueue(20);\n",
        "console.log(numberQueue.dequeue());"
      ],
      "metadata": {
        "id": "inBW5M4AfM46"
      },
      "execution_count": null,
      "outputs": []
    },
    {
      "cell_type": "code",
      "source": [
        "!tsc generic2.ts"
      ],
      "metadata": {
        "id": "mzQvBJSvm0cw"
      },
      "execution_count": null,
      "outputs": []
    },
    {
      "cell_type": "code",
      "source": [
        "!node generic2.js"
      ],
      "metadata": {
        "id": "XdgFlXWUm3NS"
      },
      "execution_count": null,
      "outputs": []
    },
    {
      "cell_type": "markdown",
      "source": [
        "## Resources\n",
        "\n",
        "*   https://www.typescriptlang.org/\n",
        "*   https://www.typescriptlang.org/docs/\n",
        "*   https://www.typescriptlang.org/docs/handbook/basic-types.html\n",
        "*   Learn TypeScript in 50 Minutes: https://youtu.be/3mDny9XAgic?si=2Ljhf228MZwOIOSY\n",
        "* https://youtu.be/r8G7-hQG07o?si=1kQfJ_6oMo2MhOgQ\n",
        "\n"
      ],
      "metadata": {
        "id": "2GqVNNbJsFoV"
      }
    }
  ]
}